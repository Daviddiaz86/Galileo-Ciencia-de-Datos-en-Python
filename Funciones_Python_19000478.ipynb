{
 "cells": [
  {
   "cell_type": "markdown",
   "metadata": {},
   "source": [
    "| Curso | Nombre | Carnet |\n",
    "| ---: | ---: | ---: |\n",
    "| Ciencia de datos en Python | José David Díaz Díaz | 19000478 |"
   ]
  },
  {
   "cell_type": "markdown",
   "metadata": {},
   "source": [
    "<h1><center> Investigación Funciones en Python</center></h1>"
   ]
  },
  {
   "cell_type": "markdown",
   "metadata": {},
   "source": [
    "<h2><left>Funciones en Python</left></h2>\n",
    "    <div align=\"justify\">\n",
    "    Las funciones son segmentos de codigo organizado, que podemos reusar para realizar una o muchas acciones. Existen muchas funciones dentro de las librerias en python, pero nosotros podemos definir nuestras funciones.\n",
    "    <h3>Ejemplo:</h3>\n",
    "    </div>\n",
    "    "
   ]
  },
  {
   "cell_type": "code",
   "execution_count": 42,
   "metadata": {},
   "outputs": [
    {
     "name": "stdout",
     "output_type": "stream",
     "text": [
      "El estudiante ingresado es: David Diaz\n"
     ]
    }
   ],
   "source": [
    "def Nombre_estudiante( str ):\n",
    "   a=\"El estudiante ingresado es: \"\n",
    "   print(a + str)\n",
    "\n",
    "#Envio un string de ejemplo\n",
    "Nombre_estudiante(\"David Diaz\")"
   ]
  },
  {
   "cell_type": "markdown",
   "metadata": {},
   "source": [
    "   <h2><left>Parámetros Posicionales</left></h2>\n",
    "    <div align=\"justify\">\n",
    "Los parámetros posicionales, son parámetros opcionales que nosotros podemos enviar en las funciones. Si el parámetro es antecedido por un * , Python llena el parámetro con cualquier valor que no coincida con los valores formales anteriores. Si la definición de la función tiene un parámetro formal precedido por ** , Python completa ese parámetro con cualquier palabra clave que no coincida con los valores formales anteriores.\n",
    "    <h3>Ejemplo:</h3>\n",
    "    </div>"
   ]
  },
  {
   "cell_type": "code",
   "execution_count": 43,
   "metadata": {},
   "outputs": [
    {
     "name": "stdout",
     "output_type": "stream",
     "text": [
      "No existe parametro opcional, parámetros ingresados:  1 2\n",
      "Se encontro el parametro opcional siguiente: Si\n",
      "No existe parametro opcional, parámetros ingresados:  1 2\n"
     ]
    }
   ],
   "source": [
    "def Fun_Opcional(a, b, *p_posicional, **p_clave): \n",
    "    if (\"opcional\" in p_clave): \n",
    "        print (\"Se encontro el parametro opcional siguiente:\", p_clave[\"opcional\"]) \n",
    "    else: \n",
    "        print (\"No existe parametro opcional, parámetros ingresados: \", a, b)\n",
    "\n",
    "#No enviamos parametros opcionales, los primeros 2 parametros no los usamos dentro de la función      \n",
    "Fun_Opcional(1, 2)\n",
    "\n",
    "#Enviamos 1 parametro opcional, ingresando la palabra clave\n",
    "Fun_Opcional(1,2, opcional=\"Si\")\n",
    "\n",
    "#Enviamos 1 parametro opcional, pero no ingresamos la palabra clave\n",
    "Fun_Opcional(1,2, opcional2=\"No\") "
   ]
  },
  {
   "cell_type": "markdown",
   "metadata": {},
   "source": [
    "   <h2><left>Parámetros Nombrados</left></h2>\n",
    "    <div align=\"justify\">\n",
    "Los parámetros en python se pueden enviar sin un nombre asociado y python asume que los parámetros fueron ingresados en el orden que se encuentran listados dentro de la función, pero ese no siempre puede ser el caso. Cuando nombramos un parámetro nosotros podemos enviarlos en el orden que nosotros queramos.\n",
    "    <h3>Ejemplo:</h3>\n",
    "    </div>"
   ]
  },
  {
   "cell_type": "code",
   "execution_count": 44,
   "metadata": {},
   "outputs": [
    {
     "data": {
      "text/plain": [
       "5"
      ]
     },
     "execution_count": 44,
     "metadata": {},
     "output_type": "execute_result"
    }
   ],
   "source": [
    "#Cuenta las incidencias del caracter 1 en la cadena\n",
    "def letras(cad1,char1):\n",
    "    contador = 0\n",
    "    for i in cad1:\n",
    "        if i == char1:\n",
    "            contador = contador + 1\n",
    "            \n",
    "    return contador\n",
    "\n",
    "#Cuenta la cantidad de veces que pasamos la letra a.\n",
    "letras(\"Esta es una cadena de ejemplo, vamos a evaluar la letra a\",\"a\")\n",
    "\n",
    "#Pero si nombramos los parámetros podemos enviarlos en distinto orden al definido por la función\n",
    "letras(char1=\"o\",cad1=\"Ahora vamos a hacer un conteo de la letra o\")"
   ]
  },
  {
   "cell_type": "markdown",
   "metadata": {},
   "source": [
    "   <h2><left>Retorno de Múltiples Valores</left></h2>\n",
    "    <div align=\"justify\">\n",
    "Python puede retornar multiples valores dentro de un llamado a una función, algo bastante unico de python pues no existen muchos lenguajes que puedan realizar esto. \n",
    "    <h3>Ejemplo:</h3>\n",
    "    </div>"
   ]
  },
  {
   "cell_type": "code",
   "execution_count": 45,
   "metadata": {},
   "outputs": [
    {
     "name": "stdout",
     "output_type": "stream",
     "text": [
      "El doble de los parámetros ingresados es:  (10, 12)\n"
     ]
    }
   ],
   "source": [
    "#En este caso los valores retornados se regresan como una tupla.\n",
    "def doble(x,y):\n",
    "    return x+x, y+y\n",
    "\n",
    "a = doble(5,6)\n",
    "print(\"El doble de los parámetros ingresados es: \", a) "
   ]
  },
  {
   "cell_type": "markdown",
   "metadata": {},
   "source": [
    "   <h2><left>Funciones como Objetos y como Parametros de otras funciones</left></h2>\n",
    "    <div align=\"justify\">\n",
    "Los objetos en python pueden usarse para dos tipos de operaciones distintas: como objetos para ser referenciados en algun otra parte o instanciandolos como parametros en otras funciones\n",
    "\n",
    "Para hacer referencia al objeto se usa la sintaxis: objeto.nombre .\n",
    "    <h3>Ejemplo:</h3>\n",
    "    </div>"
   ]
  },
  {
   "cell_type": "code",
   "execution_count": 46,
   "metadata": {},
   "outputs": [],
   "source": [
    "#Definimos una clase en la cual vamos a crear una funcion objeto que unicamente retornara el texto \"Hola Mundo\"\n",
    "class Clase01:\n",
    "    def obj01(par01):\n",
    "        return (\"Hola Mundo\")"
   ]
  },
  {
   "cell_type": "markdown",
   "metadata": {},
   "source": [
    "  <div align=\"justify\">\n",
    "Por lo tanto si hacemos referencia a Clase01.obj01 tendremos el retorno de una función como objeto. \n",
    "Para definir parámetros como otras funciones, por ejemplo con la Clase01 que definimos con anterioridad, podemos definir una variable para capturar el valor que retorna esta función.\n",
    "<h3>Ejemplo:</h3>\n",
    "  </div>"
   ]
  },
  {
   "cell_type": "code",
   "execution_count": 47,
   "metadata": {},
   "outputs": [],
   "source": [
    "#En esta variable definimos una variable que contiene el resultado de la función\n",
    "x = Clase01.obj01(1)"
   ]
  },
  {
   "cell_type": "markdown",
   "metadata": {},
   "source": [
    "  <div align=\"justify\">\n",
    "Esta variable x, podemos venir y mandarla como paramétro dentro de otra función por ejemplo letras definida con anterioridad.\n",
    "<h3>Ejemplo:</h3>\n",
    "  </div>"
   ]
  },
  {
   "cell_type": "code",
   "execution_count": 51,
   "metadata": {},
   "outputs": [
    {
     "data": {
      "text/plain": [
       "1"
      ]
     },
     "execution_count": 51,
     "metadata": {},
     "output_type": "execute_result"
    }
   ],
   "source": [
    "letras (x,\"H\")"
   ]
  },
  {
   "cell_type": "markdown",
   "metadata": {},
   "source": [
    "   <h2><left>Funciones Anonimas o Lambda</left></h2>\n",
    "    <div align=\"justify\">\n",
    "Una función Lambda es una función que no tiene un nombre asociado. Las funciones Lambda pueden tener cualquier cantidad de argumentos, pero solo pueden retornar una expresión.\n",
    "    <h3>Ejemplo:</h3>\n",
    "    </div>"
   ]
  },
  {
   "cell_type": "code",
   "execution_count": 58,
   "metadata": {},
   "outputs": [],
   "source": [
    "#En este ejemplo realizamos el cuadrado de cada parámetro ingresado y los sumamos.\n",
    "def cuadrado(x,y,z):\n",
    "  return lambda a, b, c : a**a + b**b + c**c"
   ]
  },
  {
   "cell_type": "markdown",
   "metadata": {},
   "source": [
    "   <h2><Center>Referencias</Center></h2>\n",
    "    <div align=\"left\"><br>\n",
    "https://www.tutorialspoint.com/python/python_functions.htm<br>\n",
    "http://www.informit.com/articles/article.aspx?p=2314818<br>\n",
    "https://treyhunner.com/2018/04/keyword-arguments-in-python/<br>\n",
    "https://www.mantidproject.org/Working_With_Functions:_Return_Values<br>\n",
    "http://docs.python.org.ar/tutorial/2/classes.html<br>\n",
    "    </div>"
   ]
  }
 ],
 "metadata": {
  "kernelspec": {
   "display_name": "Python 3",
   "language": "python",
   "name": "python3"
  },
  "language_info": {
   "codemirror_mode": {
    "name": "ipython",
    "version": 3
   },
   "file_extension": ".py",
   "mimetype": "text/x-python",
   "name": "python",
   "nbconvert_exporter": "python",
   "pygments_lexer": "ipython3",
   "version": "3.7.2"
  }
 },
 "nbformat": 4,
 "nbformat_minor": 2
}
