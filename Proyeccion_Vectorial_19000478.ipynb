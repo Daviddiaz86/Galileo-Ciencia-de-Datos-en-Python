{
 "cells": [
  {
   "cell_type": "markdown",
   "metadata": {},
   "source": [
    "| Curso | Nombre | Carnet |\n",
    "| ---: | ---: | ---: |\n",
    "| Ciencia de datos en Python | José David Díaz Díaz | 19000478 |"
   ]
  },
  {
   "cell_type": "markdown",
   "metadata": {},
   "source": [
    "<h1><center> Investigación Proyección Vectorial </center></h1>"
   ]
  },
  {
   "cell_type": "markdown",
   "metadata": {},
   "source": [
    "<h2><left>Que es proyección vectorial?</left></h2>\n",
    "    <div align=\"justify\">\n",
    "    La proyección vectorial de un vector a hacia un vector b que no sea cero (componente del vector) es la proyección ortogonal de a hacia una linea recta paralela a b. \n",
    "\n",
    "   <img src=\"https://wikimedia.org/api/rest_v1/media/math/render/svg/be3c5c944d454eff426389316ec908c7dc7509bf\" /> \n",
    "\n",
    "Siendo <img src=\"https://wikimedia.org/api/rest_v1/media/math/render/svg/bbf42ecda092975c9c69dae84e16182ba5fe2e07\" />  un escalar, tambien conocida como proyección escalar de a en b, y b^ es la unidad del vector en la dirección de b. La proyección escalar se define como:\n",
    "\n",
    "   <img src=\"https://wikimedia.org/api/rest_v1/media/math/render/svg/b6b9d6fc8cc0f4f54d9bf9b156d035c698bd4d2e\" />  \n",
    "\n",
    "Donde el operador denota una operación de producto punto, |a| es la longitud de a, y θ es el angulo entre a y b. La proyección escalar es igual a la longitud de la proyección del vector, siendo un valor negativo si la dirección de la proyección es opuesta a la dirección de b.\n",
    "\n",
    "El componente del vector de a perpendicular a b, es la proyección ortogonal de a hacia el plano ortogonal de b. Tanto la proyección de a1 y el rechazo de a2 de un vector son vectores, y su sumatoria es igual a a, lo que implica que el rechazo se define como:\n",
    "\n",
    "   <img src=\"https://wikimedia.org/api/rest_v1/media/math/render/svg/7a5f2b68b7c4ed888ea71b7ef2a00d416cc6ec19\" />\n",
    "\n",
    "\n",
    "   <img src=\"https://i.stack.imgur.com/vm1YO.png\" /> \n",
    "\n",
    "   <h3>Ejemplo:</h3>\n",
    "    </img>\n",
    "    </div>\n",
    "    "
   ]
  },
  {
   "cell_type": "code",
   "execution_count": 16,
   "metadata": {},
   "outputs": [
    {
     "name": "stdout",
     "output_type": "stream",
     "text": [
      "[[ 0.234051  0.63302  -1.60096  -0.268102 -0.545964 -0.006718 -0.263127\n",
      "  -0.049709  0.849596 -2.067112  0.502712 -1.501816  0.525925 -0.271741\n",
      "   0.921915  0.350795 -0.603563 -0.998732  1.554808 -1.870758  0.715001\n",
      "   1.131138  2.027448  0.571179 -1.013869 -1.596131  3.360367  0.203016\n",
      "  -0.308076  0.536282 -0.605822 -0.515623  0.984051 -2.678811  0.412502\n",
      "   0.531752 -0.706333 -0.20468   1.562566  0.952235 -2.680676 -0.062167\n",
      "   1.691867 -0.049409 -0.090059 -1.599418  1.535887  0.498748  0.584933\n",
      "  -0.712417]\n",
      " [ 0.234051  0.63302  -1.60096  -0.268102 -0.545964 -0.006718 -0.263127\n",
      "  -0.049709  0.849596 -2.067112  0.502712 -1.501816  0.525925 -0.271741\n",
      "   0.921915  0.350795 -0.603563 -0.998732  1.554808 -1.870758  0.715001\n",
      "   1.131138  2.027448  0.571179 -1.013869 -1.596131  3.360367  0.203016\n",
      "  -0.308076  0.536282 -0.605822 -0.515623  0.984051 -2.678811  0.412502\n",
      "   0.531752 -0.706333 -0.20468   1.562566  0.952235 -2.680676 -0.062167\n",
      "   1.691867 -0.049409 -0.090059 -1.599418  1.535887  0.498748  0.584933\n",
      "  -0.712417]]\n"
     ]
    }
   ],
   "source": [
    "import numpy as np\n",
    "import numpy.linalg as npl\n",
    "\n",
    "#Arreglo de 6 decimales\n",
    "np.set_printoptions(precision=6, suppress=True)\n",
    "\n",
    "#Llenamos de datos aleatorios, hacemos un vector de ejemplo\n",
    "X = np.random.multivariate_normal([0, 0], [[3, 1.5], [1.5, 1]], size=50).T\n",
    "\n",
    "#Quitamos la media\n",
    "x_mean = X.mean(axis=1)\n",
    "X[0] = X[0] - x_mean[0]\n",
    "X[1] = X[1] - x_mean[1]\n",
    "\n",
    "b = np.array([np.cos(np.pi / 4), np.sin(np.pi / 4)])\n",
    "b_fila = b.reshape((1, 2))  # Vector de filas\n",
    "c_val = b_fila.dot(X)  # valores de c para escalar b\n",
    "# escalar u para obtener la proyeccion\n",
    "projected = b_fila.T.dot(c_val)\n",
    "\n",
    "#para los distintos valores obtenemos la proyección de cada uno\n",
    "print(projected)"
   ]
  },
  {
   "cell_type": "markdown",
   "metadata": {},
   "source": [
    "<h2><left>Que uso tiene la proyección vectorial?</left></h2>\n",
    "    <div align=\"justify\">\n",
    "    Las proyecciones de vectores se usan como base de la mayoria de algoritmos de Gram Schmidt, para calcular un espacio eucladiano \n",
    "\n",
    "\n",
    "   <img src=\"https://upload.wikimedia.org/wikipedia/commons/e/ee/Gram-Schmidt_orthonormalization_process.gif\" />\n",
    "    </div>"
   ]
  },
  {
   "cell_type": "markdown",
   "metadata": {},
   "source": [
    "   <h2><Center>Referencias</Center></h2>\n",
    "    <div align=\"left\"><br>\n",
    "https://en.wikipedia.org/wiki/Vector_projection<br>\n",
    "    </br>\n",
    "    </div>"
   ]
  }
 ],
 "metadata": {
  "kernelspec": {
   "display_name": "Python 3",
   "language": "python",
   "name": "python3"
  },
  "language_info": {
   "codemirror_mode": {
    "name": "ipython",
    "version": 3
   },
   "file_extension": ".py",
   "mimetype": "text/x-python",
   "name": "python",
   "nbconvert_exporter": "python",
   "pygments_lexer": "ipython3",
   "version": "3.7.2"
  }
 },
 "nbformat": 4,
 "nbformat_minor": 2
}
